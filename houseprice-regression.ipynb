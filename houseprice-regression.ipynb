{
 "cells": [
  {
   "cell_type": "code",
   "execution_count": 8,
   "id": "3c15ed21",
   "metadata": {
    "execution": {
     "iopub.execute_input": "2022-03-30T12:22:56.392898Z",
     "iopub.status.busy": "2022-03-30T12:22:56.391669Z",
     "iopub.status.idle": "2022-03-30T12:22:57.913190Z",
     "shell.execute_reply": "2022-03-30T12:22:57.912331Z",
     "shell.execute_reply.started": "2022-03-30T12:05:57.986844Z"
    },
    "papermill": {
     "duration": 1.550894,
     "end_time": "2022-03-30T12:22:57.913439",
     "exception": false,
     "start_time": "2022-03-30T12:22:56.362545",
     "status": "completed"
    },
    "tags": []
   },
   "outputs": [],
   "source": [
    "from sklearn.preprocessing import OrdinalEncoder\n",
    "from sklearn.preprocessing import MinMaxScaler\n",
    "from sklearn.model_selection import train_test_split\n",
    "from xgboost import XGBRegressor\n",
    "from sklearn.metrics import mean_squared_error\n",
    "import warnings\n",
    "warnings.filterwarnings(\"ignore\")\n",
    "import pandas as pd \n",
    "import numpy as np\n",
    "import matplotlib.pyplot as plt\n",
    "import seaborn as sns"
   ]
  },
  {
   "cell_type": "code",
   "execution_count": 9,
   "id": "0c290f9c",
   "metadata": {
    "execution": {
     "iopub.execute_input": "2022-03-30T12:22:57.972908Z",
     "iopub.status.busy": "2022-03-30T12:22:57.972147Z",
     "iopub.status.idle": "2022-03-30T12:22:58.055051Z",
     "shell.execute_reply": "2022-03-30T12:22:58.054044Z",
     "shell.execute_reply.started": "2022-03-30T12:05:58.027808Z"
    },
    "papermill": {
     "duration": 0.115211,
     "end_time": "2022-03-30T12:22:58.055260",
     "exception": false,
     "start_time": "2022-03-30T12:22:57.940049",
     "status": "completed"
    },
    "tags": []
   },
   "outputs": [],
   "source": [
    "# Importing the csv files. One for training data and one for testing data.\n",
    "train = pd.read_csv('trainhouse.csv')\n",
    "test = pd.read_csv('testhouse.csv')\n"
   ]
  },
  {
   "cell_type": "markdown",
   "id": "b0f92670",
   "metadata": {
    "papermill": {
     "duration": 0.025245,
     "end_time": "2022-03-30T12:22:58.105946",
     "exception": false,
     "start_time": "2022-03-30T12:22:58.080701",
     "status": "completed"
    },
    "tags": []
   },
   "source": [
    "# 1. Reading the data:"
   ]
  },
  {
   "cell_type": "code",
   "execution_count": 10,
   "id": "a5ac28f0",
   "metadata": {
    "execution": {
     "iopub.execute_input": "2022-03-30T12:22:58.173794Z",
     "iopub.status.busy": "2022-03-30T12:22:58.172954Z",
     "iopub.status.idle": "2022-03-30T12:22:58.205028Z",
     "shell.execute_reply": "2022-03-30T12:22:58.205642Z",
     "shell.execute_reply.started": "2022-03-30T12:05:58.080266Z"
    },
    "papermill": {
     "duration": 0.074314,
     "end_time": "2022-03-30T12:22:58.205863",
     "exception": false,
     "start_time": "2022-03-30T12:22:58.131549",
     "status": "completed"
    },
    "tags": []
   },
   "outputs": [
    {
     "data": {
      "text/html": [
       "<div>\n",
       "<style scoped>\n",
       "    .dataframe tbody tr th:only-of-type {\n",
       "        vertical-align: middle;\n",
       "    }\n",
       "\n",
       "    .dataframe tbody tr th {\n",
       "        vertical-align: top;\n",
       "    }\n",
       "\n",
       "    .dataframe thead th {\n",
       "        text-align: right;\n",
       "    }\n",
       "</style>\n",
       "<table border=\"1\" class=\"dataframe\">\n",
       "  <thead>\n",
       "    <tr style=\"text-align: right;\">\n",
       "      <th></th>\n",
       "      <th>Id</th>\n",
       "      <th>MSSubClass</th>\n",
       "      <th>MSZoning</th>\n",
       "      <th>LotFrontage</th>\n",
       "      <th>LotArea</th>\n",
       "      <th>Street</th>\n",
       "      <th>Alley</th>\n",
       "      <th>LotShape</th>\n",
       "      <th>LandContour</th>\n",
       "      <th>Utilities</th>\n",
       "      <th>...</th>\n",
       "      <th>PoolArea</th>\n",
       "      <th>PoolQC</th>\n",
       "      <th>Fence</th>\n",
       "      <th>MiscFeature</th>\n",
       "      <th>MiscVal</th>\n",
       "      <th>MoSold</th>\n",
       "      <th>YrSold</th>\n",
       "      <th>SaleType</th>\n",
       "      <th>SaleCondition</th>\n",
       "      <th>SalePrice</th>\n",
       "    </tr>\n",
       "  </thead>\n",
       "  <tbody>\n",
       "    <tr>\n",
       "      <th>0</th>\n",
       "      <td>1</td>\n",
       "      <td>60</td>\n",
       "      <td>RL</td>\n",
       "      <td>65.0</td>\n",
       "      <td>8450</td>\n",
       "      <td>Pave</td>\n",
       "      <td>NaN</td>\n",
       "      <td>Reg</td>\n",
       "      <td>Lvl</td>\n",
       "      <td>AllPub</td>\n",
       "      <td>...</td>\n",
       "      <td>0</td>\n",
       "      <td>NaN</td>\n",
       "      <td>NaN</td>\n",
       "      <td>NaN</td>\n",
       "      <td>0</td>\n",
       "      <td>2</td>\n",
       "      <td>2008</td>\n",
       "      <td>WD</td>\n",
       "      <td>Normal</td>\n",
       "      <td>208500</td>\n",
       "    </tr>\n",
       "    <tr>\n",
       "      <th>1</th>\n",
       "      <td>2</td>\n",
       "      <td>20</td>\n",
       "      <td>RL</td>\n",
       "      <td>80.0</td>\n",
       "      <td>9600</td>\n",
       "      <td>Pave</td>\n",
       "      <td>NaN</td>\n",
       "      <td>Reg</td>\n",
       "      <td>Lvl</td>\n",
       "      <td>AllPub</td>\n",
       "      <td>...</td>\n",
       "      <td>0</td>\n",
       "      <td>NaN</td>\n",
       "      <td>NaN</td>\n",
       "      <td>NaN</td>\n",
       "      <td>0</td>\n",
       "      <td>5</td>\n",
       "      <td>2007</td>\n",
       "      <td>WD</td>\n",
       "      <td>Normal</td>\n",
       "      <td>181500</td>\n",
       "    </tr>\n",
       "    <tr>\n",
       "      <th>2</th>\n",
       "      <td>3</td>\n",
       "      <td>60</td>\n",
       "      <td>RL</td>\n",
       "      <td>68.0</td>\n",
       "      <td>11250</td>\n",
       "      <td>Pave</td>\n",
       "      <td>NaN</td>\n",
       "      <td>IR1</td>\n",
       "      <td>Lvl</td>\n",
       "      <td>AllPub</td>\n",
       "      <td>...</td>\n",
       "      <td>0</td>\n",
       "      <td>NaN</td>\n",
       "      <td>NaN</td>\n",
       "      <td>NaN</td>\n",
       "      <td>0</td>\n",
       "      <td>9</td>\n",
       "      <td>2008</td>\n",
       "      <td>WD</td>\n",
       "      <td>Normal</td>\n",
       "      <td>223500</td>\n",
       "    </tr>\n",
       "    <tr>\n",
       "      <th>3</th>\n",
       "      <td>4</td>\n",
       "      <td>70</td>\n",
       "      <td>RL</td>\n",
       "      <td>60.0</td>\n",
       "      <td>9550</td>\n",
       "      <td>Pave</td>\n",
       "      <td>NaN</td>\n",
       "      <td>IR1</td>\n",
       "      <td>Lvl</td>\n",
       "      <td>AllPub</td>\n",
       "      <td>...</td>\n",
       "      <td>0</td>\n",
       "      <td>NaN</td>\n",
       "      <td>NaN</td>\n",
       "      <td>NaN</td>\n",
       "      <td>0</td>\n",
       "      <td>2</td>\n",
       "      <td>2006</td>\n",
       "      <td>WD</td>\n",
       "      <td>Abnorml</td>\n",
       "      <td>140000</td>\n",
       "    </tr>\n",
       "    <tr>\n",
       "      <th>4</th>\n",
       "      <td>5</td>\n",
       "      <td>60</td>\n",
       "      <td>RL</td>\n",
       "      <td>84.0</td>\n",
       "      <td>14260</td>\n",
       "      <td>Pave</td>\n",
       "      <td>NaN</td>\n",
       "      <td>IR1</td>\n",
       "      <td>Lvl</td>\n",
       "      <td>AllPub</td>\n",
       "      <td>...</td>\n",
       "      <td>0</td>\n",
       "      <td>NaN</td>\n",
       "      <td>NaN</td>\n",
       "      <td>NaN</td>\n",
       "      <td>0</td>\n",
       "      <td>12</td>\n",
       "      <td>2008</td>\n",
       "      <td>WD</td>\n",
       "      <td>Normal</td>\n",
       "      <td>250000</td>\n",
       "    </tr>\n",
       "    <tr>\n",
       "      <th>5</th>\n",
       "      <td>6</td>\n",
       "      <td>50</td>\n",
       "      <td>RL</td>\n",
       "      <td>85.0</td>\n",
       "      <td>14115</td>\n",
       "      <td>Pave</td>\n",
       "      <td>NaN</td>\n",
       "      <td>IR1</td>\n",
       "      <td>Lvl</td>\n",
       "      <td>AllPub</td>\n",
       "      <td>...</td>\n",
       "      <td>0</td>\n",
       "      <td>NaN</td>\n",
       "      <td>MnPrv</td>\n",
       "      <td>Shed</td>\n",
       "      <td>700</td>\n",
       "      <td>10</td>\n",
       "      <td>2009</td>\n",
       "      <td>WD</td>\n",
       "      <td>Normal</td>\n",
       "      <td>143000</td>\n",
       "    </tr>\n",
       "    <tr>\n",
       "      <th>6</th>\n",
       "      <td>7</td>\n",
       "      <td>20</td>\n",
       "      <td>RL</td>\n",
       "      <td>75.0</td>\n",
       "      <td>10084</td>\n",
       "      <td>Pave</td>\n",
       "      <td>NaN</td>\n",
       "      <td>Reg</td>\n",
       "      <td>Lvl</td>\n",
       "      <td>AllPub</td>\n",
       "      <td>...</td>\n",
       "      <td>0</td>\n",
       "      <td>NaN</td>\n",
       "      <td>NaN</td>\n",
       "      <td>NaN</td>\n",
       "      <td>0</td>\n",
       "      <td>8</td>\n",
       "      <td>2007</td>\n",
       "      <td>WD</td>\n",
       "      <td>Normal</td>\n",
       "      <td>307000</td>\n",
       "    </tr>\n",
       "    <tr>\n",
       "      <th>7</th>\n",
       "      <td>8</td>\n",
       "      <td>60</td>\n",
       "      <td>RL</td>\n",
       "      <td>NaN</td>\n",
       "      <td>10382</td>\n",
       "      <td>Pave</td>\n",
       "      <td>NaN</td>\n",
       "      <td>IR1</td>\n",
       "      <td>Lvl</td>\n",
       "      <td>AllPub</td>\n",
       "      <td>...</td>\n",
       "      <td>0</td>\n",
       "      <td>NaN</td>\n",
       "      <td>NaN</td>\n",
       "      <td>Shed</td>\n",
       "      <td>350</td>\n",
       "      <td>11</td>\n",
       "      <td>2009</td>\n",
       "      <td>WD</td>\n",
       "      <td>Normal</td>\n",
       "      <td>200000</td>\n",
       "    </tr>\n",
       "    <tr>\n",
       "      <th>8</th>\n",
       "      <td>9</td>\n",
       "      <td>50</td>\n",
       "      <td>RM</td>\n",
       "      <td>51.0</td>\n",
       "      <td>6120</td>\n",
       "      <td>Pave</td>\n",
       "      <td>NaN</td>\n",
       "      <td>Reg</td>\n",
       "      <td>Lvl</td>\n",
       "      <td>AllPub</td>\n",
       "      <td>...</td>\n",
       "      <td>0</td>\n",
       "      <td>NaN</td>\n",
       "      <td>NaN</td>\n",
       "      <td>NaN</td>\n",
       "      <td>0</td>\n",
       "      <td>4</td>\n",
       "      <td>2008</td>\n",
       "      <td>WD</td>\n",
       "      <td>Abnorml</td>\n",
       "      <td>129900</td>\n",
       "    </tr>\n",
       "    <tr>\n",
       "      <th>9</th>\n",
       "      <td>10</td>\n",
       "      <td>190</td>\n",
       "      <td>RL</td>\n",
       "      <td>50.0</td>\n",
       "      <td>7420</td>\n",
       "      <td>Pave</td>\n",
       "      <td>NaN</td>\n",
       "      <td>Reg</td>\n",
       "      <td>Lvl</td>\n",
       "      <td>AllPub</td>\n",
       "      <td>...</td>\n",
       "      <td>0</td>\n",
       "      <td>NaN</td>\n",
       "      <td>NaN</td>\n",
       "      <td>NaN</td>\n",
       "      <td>0</td>\n",
       "      <td>1</td>\n",
       "      <td>2008</td>\n",
       "      <td>WD</td>\n",
       "      <td>Normal</td>\n",
       "      <td>118000</td>\n",
       "    </tr>\n",
       "  </tbody>\n",
       "</table>\n",
       "<p>10 rows × 81 columns</p>\n",
       "</div>"
      ],
      "text/plain": [
       "   Id  MSSubClass MSZoning  LotFrontage  LotArea Street Alley LotShape  \\\n",
       "0   1          60       RL         65.0     8450   Pave   NaN      Reg   \n",
       "1   2          20       RL         80.0     9600   Pave   NaN      Reg   \n",
       "2   3          60       RL         68.0    11250   Pave   NaN      IR1   \n",
       "3   4          70       RL         60.0     9550   Pave   NaN      IR1   \n",
       "4   5          60       RL         84.0    14260   Pave   NaN      IR1   \n",
       "5   6          50       RL         85.0    14115   Pave   NaN      IR1   \n",
       "6   7          20       RL         75.0    10084   Pave   NaN      Reg   \n",
       "7   8          60       RL          NaN    10382   Pave   NaN      IR1   \n",
       "8   9          50       RM         51.0     6120   Pave   NaN      Reg   \n",
       "9  10         190       RL         50.0     7420   Pave   NaN      Reg   \n",
       "\n",
       "  LandContour Utilities  ... PoolArea PoolQC  Fence MiscFeature MiscVal  \\\n",
       "0         Lvl    AllPub  ...        0    NaN    NaN         NaN       0   \n",
       "1         Lvl    AllPub  ...        0    NaN    NaN         NaN       0   \n",
       "2         Lvl    AllPub  ...        0    NaN    NaN         NaN       0   \n",
       "3         Lvl    AllPub  ...        0    NaN    NaN         NaN       0   \n",
       "4         Lvl    AllPub  ...        0    NaN    NaN         NaN       0   \n",
       "5         Lvl    AllPub  ...        0    NaN  MnPrv        Shed     700   \n",
       "6         Lvl    AllPub  ...        0    NaN    NaN         NaN       0   \n",
       "7         Lvl    AllPub  ...        0    NaN    NaN        Shed     350   \n",
       "8         Lvl    AllPub  ...        0    NaN    NaN         NaN       0   \n",
       "9         Lvl    AllPub  ...        0    NaN    NaN         NaN       0   \n",
       "\n",
       "  MoSold YrSold  SaleType  SaleCondition  SalePrice  \n",
       "0      2   2008        WD         Normal     208500  \n",
       "1      5   2007        WD         Normal     181500  \n",
       "2      9   2008        WD         Normal     223500  \n",
       "3      2   2006        WD        Abnorml     140000  \n",
       "4     12   2008        WD         Normal     250000  \n",
       "5     10   2009        WD         Normal     143000  \n",
       "6      8   2007        WD         Normal     307000  \n",
       "7     11   2009        WD         Normal     200000  \n",
       "8      4   2008        WD        Abnorml     129900  \n",
       "9      1   2008        WD         Normal     118000  \n",
       "\n",
       "[10 rows x 81 columns]"
      ]
     },
     "execution_count": 10,
     "metadata": {},
     "output_type": "execute_result"
    }
   ],
   "source": [
    "# Viewing the train data. I can already see there are a few missing values.\n",
    "train.head(10)"
   ]
  },
  {
   "cell_type": "code",
   "execution_count": 11,
   "id": "77aade93",
   "metadata": {
    "execution": {
     "iopub.execute_input": "2022-03-30T12:22:58.267595Z",
     "iopub.status.busy": "2022-03-30T12:22:58.266304Z",
     "iopub.status.idle": "2022-03-30T12:22:58.290050Z",
     "shell.execute_reply": "2022-03-30T12:22:58.289414Z",
     "shell.execute_reply.started": "2022-03-30T12:05:58.11228Z"
    },
    "papermill": {
     "duration": 0.057683,
     "end_time": "2022-03-30T12:22:58.290252",
     "exception": false,
     "start_time": "2022-03-30T12:22:58.232569",
     "status": "completed"
    },
    "tags": []
   },
   "outputs": [],
   "source": [
    "# Moving the train without the Saleprice column.\n",
    "X = pd.DataFrame(train.loc[:, train.columns != 'SalePrice'])\n",
    "# Here I am using concat to add the testing data to the train data.\n",
    "X = pd.concat([X, test], axis=0)\n",
    "# Creating the Y for train test split.\n",
    "y = pd.DataFrame(train['SalePrice'])\n"
   ]
  },
  {
   "cell_type": "code",
   "execution_count": 12,
   "id": "0ae2d5e3",
   "metadata": {
    "execution": {
     "iopub.execute_input": "2022-03-30T12:22:58.350041Z",
     "iopub.status.busy": "2022-03-30T12:22:58.349308Z",
     "iopub.status.idle": "2022-03-30T12:22:58.393243Z",
     "shell.execute_reply": "2022-03-30T12:22:58.393900Z",
     "shell.execute_reply.started": "2022-03-30T12:05:58.140324Z"
    },
    "papermill": {
     "duration": 0.076835,
     "end_time": "2022-03-30T12:22:58.394108",
     "exception": false,
     "start_time": "2022-03-30T12:22:58.317273",
     "status": "completed"
    },
    "tags": []
   },
   "outputs": [
    {
     "name": "stdout",
     "output_type": "stream",
     "text": [
      "<class 'pandas.core.frame.DataFrame'>\n",
      "Int64Index: 2919 entries, 0 to 1458\n",
      "Data columns (total 80 columns):\n",
      " #   Column         Non-Null Count  Dtype  \n",
      "---  ------         --------------  -----  \n",
      " 0   Id             2919 non-null   int64  \n",
      " 1   MSSubClass     2919 non-null   int64  \n",
      " 2   MSZoning       2915 non-null   object \n",
      " 3   LotFrontage    2433 non-null   float64\n",
      " 4   LotArea        2919 non-null   int64  \n",
      " 5   Street         2919 non-null   object \n",
      " 6   Alley          198 non-null    object \n",
      " 7   LotShape       2919 non-null   object \n",
      " 8   LandContour    2919 non-null   object \n",
      " 9   Utilities      2917 non-null   object \n",
      " 10  LotConfig      2919 non-null   object \n",
      " 11  LandSlope      2919 non-null   object \n",
      " 12  Neighborhood   2919 non-null   object \n",
      " 13  Condition1     2919 non-null   object \n",
      " 14  Condition2     2919 non-null   object \n",
      " 15  BldgType       2919 non-null   object \n",
      " 16  HouseStyle     2919 non-null   object \n",
      " 17  OverallQual    2919 non-null   int64  \n",
      " 18  OverallCond    2919 non-null   int64  \n",
      " 19  YearBuilt      2919 non-null   int64  \n",
      " 20  YearRemodAdd   2919 non-null   int64  \n",
      " 21  RoofStyle      2919 non-null   object \n",
      " 22  RoofMatl       2919 non-null   object \n",
      " 23  Exterior1st    2918 non-null   object \n",
      " 24  Exterior2nd    2918 non-null   object \n",
      " 25  MasVnrType     2895 non-null   object \n",
      " 26  MasVnrArea     2896 non-null   float64\n",
      " 27  ExterQual      2919 non-null   object \n",
      " 28  ExterCond      2919 non-null   object \n",
      " 29  Foundation     2919 non-null   object \n",
      " 30  BsmtQual       2838 non-null   object \n",
      " 31  BsmtCond       2837 non-null   object \n",
      " 32  BsmtExposure   2837 non-null   object \n",
      " 33  BsmtFinType1   2840 non-null   object \n",
      " 34  BsmtFinSF1     2918 non-null   float64\n",
      " 35  BsmtFinType2   2839 non-null   object \n",
      " 36  BsmtFinSF2     2918 non-null   float64\n",
      " 37  BsmtUnfSF      2918 non-null   float64\n",
      " 38  TotalBsmtSF    2918 non-null   float64\n",
      " 39  Heating        2919 non-null   object \n",
      " 40  HeatingQC      2919 non-null   object \n",
      " 41  CentralAir     2919 non-null   object \n",
      " 42  Electrical     2918 non-null   object \n",
      " 43  1stFlrSF       2919 non-null   int64  \n",
      " 44  2ndFlrSF       2919 non-null   int64  \n",
      " 45  LowQualFinSF   2919 non-null   int64  \n",
      " 46  GrLivArea      2919 non-null   int64  \n",
      " 47  BsmtFullBath   2917 non-null   float64\n",
      " 48  BsmtHalfBath   2917 non-null   float64\n",
      " 49  FullBath       2919 non-null   int64  \n",
      " 50  HalfBath       2919 non-null   int64  \n",
      " 51  BedroomAbvGr   2919 non-null   int64  \n",
      " 52  KitchenAbvGr   2919 non-null   int64  \n",
      " 53  KitchenQual    2918 non-null   object \n",
      " 54  TotRmsAbvGrd   2919 non-null   int64  \n",
      " 55  Functional     2917 non-null   object \n",
      " 56  Fireplaces     2919 non-null   int64  \n",
      " 57  FireplaceQu    1499 non-null   object \n",
      " 58  GarageType     2762 non-null   object \n",
      " 59  GarageYrBlt    2760 non-null   float64\n",
      " 60  GarageFinish   2760 non-null   object \n",
      " 61  GarageCars     2918 non-null   float64\n",
      " 62  GarageArea     2918 non-null   float64\n",
      " 63  GarageQual     2760 non-null   object \n",
      " 64  GarageCond     2760 non-null   object \n",
      " 65  PavedDrive     2919 non-null   object \n",
      " 66  WoodDeckSF     2919 non-null   int64  \n",
      " 67  OpenPorchSF    2919 non-null   int64  \n",
      " 68  EnclosedPorch  2919 non-null   int64  \n",
      " 69  3SsnPorch      2919 non-null   int64  \n",
      " 70  ScreenPorch    2919 non-null   int64  \n",
      " 71  PoolArea       2919 non-null   int64  \n",
      " 72  PoolQC         10 non-null     object \n",
      " 73  Fence          571 non-null    object \n",
      " 74  MiscFeature    105 non-null    object \n",
      " 75  MiscVal        2919 non-null   int64  \n",
      " 76  MoSold         2919 non-null   int64  \n",
      " 77  YrSold         2919 non-null   int64  \n",
      " 78  SaleType       2918 non-null   object \n",
      " 79  SaleCondition  2919 non-null   object \n",
      "dtypes: float64(11), int64(26), object(43)\n",
      "memory usage: 1.8+ MB\n"
     ]
    }
   ],
   "source": [
    "X.info()\n"
   ]
  },
  {
   "cell_type": "code",
   "execution_count": 13,
   "id": "e40025cb",
   "metadata": {
    "execution": {
     "iopub.execute_input": "2022-03-30T12:22:58.451837Z",
     "iopub.status.busy": "2022-03-30T12:22:58.450937Z",
     "iopub.status.idle": "2022-03-30T12:22:58.821799Z",
     "shell.execute_reply": "2022-03-30T12:22:58.821073Z",
     "shell.execute_reply.started": "2022-03-30T12:05:58.186063Z"
    },
    "papermill": {
     "duration": 0.401107,
     "end_time": "2022-03-30T12:22:58.821958",
     "exception": false,
     "start_time": "2022-03-30T12:22:58.420851",
     "status": "completed"
    },
    "tags": []
   },
   "outputs": [
    {
     "data": {
      "image/png": "[encoded data removed]",
      "text/plain": [
       "<Figure size 432x288 with 2 Axes>"
      ]
     },
     "metadata": {
      "needs_background": "light"
     },
     "output_type": "display_data"
    }
   ],
   "source": [
    "# Creating a bar graph to view how the SalePrice data is distributed.  \n",
    "fig, ax = plt.subplots(1,2)\n",
    "# The graph has a long right tail which means it is right skewed.\n",
    "ax[0].hist(train['SalePrice'], bins=12, edgecolor='green', facecolor='yellow');\n",
    "ax[0].set_title(\"SalePrice distribution \")\n",
    "# Log of the SalePrice.\n",
    "ax[1].hist(np.log(y['SalePrice']),bins=12,edgecolor='white')\n",
    "ax[1].set_title('SalePrice Log')\n",
    "plt.subplots_adjust(right=0.9, wspace=0.4, hspace=0.4)\n"
   ]
  },
  {
   "cell_type": "code",
   "execution_count": 14,
   "id": "88bce69d",
   "metadata": {
    "execution": {
     "iopub.execute_input": "2022-03-30T12:22:58.894981Z",
     "iopub.status.busy": "2022-03-30T12:22:58.882043Z",
     "iopub.status.idle": "2022-03-30T12:23:00.270677Z",
     "shell.execute_reply": "2022-03-30T12:23:00.269923Z",
     "shell.execute_reply.started": "2022-03-30T12:05:58.567991Z"
    },
    "papermill": {
     "duration": 1.420664,
     "end_time": "2022-03-30T12:23:00.270849",
     "exception": false,
     "start_time": "2022-03-30T12:22:58.850185",
     "status": "completed"
    },
    "tags": []
   },
   "outputs": [
    {
     "data": {
      "text/plain": [
       "<AxesSubplot:>"
      ]
     },
     "execution_count": 14,
     "metadata": {},
     "output_type": "execute_result"
    },
    {
     "data": {
      "image/png": "[encoded data removed]",
      "text/plain": [
       "<Figure size 864x648 with 2 Axes>"
      ]
     },
     "metadata": {
      "needs_background": "light"
     },
     "output_type": "display_data"
    }
   ],
   "source": [
    "# Heatmap to visualize the missing data using seaborn.\n",
    "plt.figure(figsize=(12, 9))\n",
    "sns.heatmap(X.isnull(),cmap='YlGnBu')\n",
    "# The blue represents any missing values."
   ]
  },
  {
   "cell_type": "code",
   "execution_count": 15,
   "id": "0d6ac53f",
   "metadata": {
    "execution": {
     "iopub.execute_input": "2022-03-30T12:23:00.357797Z",
     "iopub.status.busy": "2022-03-30T12:23:00.356913Z",
     "iopub.status.idle": "2022-03-30T12:23:00.366990Z",
     "shell.execute_reply": "2022-03-30T12:23:00.366354Z",
     "shell.execute_reply.started": "2022-03-30T12:06:00.026111Z"
    },
    "papermill": {
     "duration": 0.063749,
     "end_time": "2022-03-30T12:23:00.367150",
     "exception": false,
     "start_time": "2022-03-30T12:23:00.303401",
     "status": "completed"
    },
    "tags": []
   },
   "outputs": [
    {
     "data": {
      "text/plain": [
       "13965"
      ]
     },
     "execution_count": 15,
     "metadata": {},
     "output_type": "execute_result"
    }
   ],
   "source": [
    "# As you can see there is a lot of missisng data in this dataset. \n",
    "X.isnull().sum().sum()"
   ]
  },
  {
   "cell_type": "markdown",
   "id": "5260cd41",
   "metadata": {
    "papermill": {
     "duration": 0.029993,
     "end_time": "2022-03-30T12:23:00.427966",
     "exception": false,
     "start_time": "2022-03-30T12:23:00.397973",
     "status": "completed"
    },
    "tags": []
   },
   "source": [
    "# 2. Data Cleaning:"
   ]
  },
  {
   "cell_type": "code",
   "execution_count": 16,
   "id": "e4f80fd7",
   "metadata": {
    "execution": {
     "iopub.execute_input": "2022-03-30T12:23:00.494088Z",
     "iopub.status.busy": "2022-03-30T12:23:00.492953Z",
     "iopub.status.idle": "2022-03-30T12:23:00.550526Z",
     "shell.execute_reply": "2022-03-30T12:23:00.551142Z",
     "shell.execute_reply.started": "2022-03-30T12:06:00.060997Z"
    },
    "papermill": {
     "duration": 0.09274,
     "end_time": "2022-03-30T12:23:00.551391",
     "exception": false,
     "start_time": "2022-03-30T12:23:00.458651",
     "status": "completed"
    },
    "tags": []
   },
   "outputs": [],
   "source": [
    "# Filling in the null values.\n",
    "X['Functional'].fillna('Typ', inplace=True)\n",
    "X['Electrical'].fillna('SBrkr', inplace=True)\n",
    "\n",
    "# Filling in these features with \"No\", which means they do not have this feature.\n",
    "for col in ('BsmtQual', 'BsmtCond', 'BsmtExposure', 'BsmtFinType1', 'BsmtFinType2', 'GarageType', 'GarageFinish', 'GarageQual', 'GarageCond', 'MiscFeature', 'Fence', 'FireplaceQu', 'Alley', 'PoolQC'):\n",
    "  X[col] = X[col].fillna('No')\n",
    "\n",
    "# Filling these features with zeros\n",
    "for col in ('GarageArea', 'GarageCars'):\n",
    "  X[col] = X[col].fillna(0)\n",
    "\n",
    "# Filling these features with the mode.\n",
    "for col in ('MSZoning', 'Utilities', 'MasVnrType', 'Exterior1st', 'Exterior2nd', 'SaleType'):\n",
    "  X[col] = X[col].fillna(X[col].mode()[0])\n",
    "\n",
    "# The rest of the data I am filling in with the median\n",
    "X.fillna(X.median(), inplace=True)"
   ]
  },
  {
   "cell_type": "markdown",
   "id": "78f0fc84",
   "metadata": {
    "papermill": {
     "duration": 0.030323,
     "end_time": "2022-03-30T12:23:00.612179",
     "exception": false,
     "start_time": "2022-03-30T12:23:00.581856",
     "status": "completed"
    },
    "tags": []
   },
   "source": [
    "# 3. Feature Engineering:"
   ]
  },
  {
   "cell_type": "code",
   "execution_count": 17,
   "id": "c913bf10",
   "metadata": {
    "execution": {
     "iopub.execute_input": "2022-03-30T12:23:00.678246Z",
     "iopub.status.busy": "2022-03-30T12:23:00.677073Z",
     "iopub.status.idle": "2022-03-30T12:23:00.751412Z",
     "shell.execute_reply": "2022-03-30T12:23:00.750691Z",
     "shell.execute_reply.started": "2022-03-30T12:06:00.127002Z"
    },
    "papermill": {
     "duration": 0.108697,
     "end_time": "2022-03-30T12:23:00.751582",
     "exception": false,
     "start_time": "2022-03-30T12:23:00.642885",
     "status": "completed"
    },
    "tags": []
   },
   "outputs": [],
   "source": [
    "# Adding new features to the dataset by using the original features\n",
    "X['AllSF'] = X['TotalBsmtSF'] + X['1stFlrSF'] + X['2ndFlrSF']\n",
    "X['BackyardSF'] = X['LotArea'] - X['1stFlrSF']\n",
    "X['PorchSF'] = X['WoodDeckSF'] + X['OpenPorchSF'] + X['EnclosedPorch'] + X['3SsnPorch'] + X['ScreenPorch'] \n",
    "X['Total_Bathrooms'] = X['FullBath'] + X['BsmtFullBath'] + (.5 * X['HalfBath']) + (.5 * X['BsmtHalfBath'])\n",
    "X['MedNhbdArea'] = X.groupby('Neighborhood')['GrLivArea'].transform('median')\n",
    "X['IsAbvGr'] = X[['MedNhbdArea', 'GrLivArea']].apply(lambda x: 'yes' if x['GrLivArea'] > x['MedNhbdArea'] else 'no', axis=1)\n"
   ]
  },
  {
   "cell_type": "code",
   "execution_count": 18,
   "id": "4aa849c3",
   "metadata": {
    "execution": {
     "iopub.execute_input": "2022-03-30T12:23:00.820654Z",
     "iopub.status.busy": "2022-03-30T12:23:00.819914Z",
     "iopub.status.idle": "2022-03-30T12:23:01.953666Z",
     "shell.execute_reply": "2022-03-30T12:23:01.954155Z",
     "shell.execute_reply.started": "2022-03-30T12:06:00.204982Z"
    },
    "papermill": {
     "duration": 1.171781,
     "end_time": "2022-03-30T12:23:01.954412",
     "exception": false,
     "start_time": "2022-03-30T12:23:00.782631",
     "status": "completed"
    },
    "tags": []
   },
   "outputs": [
    {
     "data": {
      "text/plain": [
       "<AxesSubplot:>"
      ]
     },
     "execution_count": 18,
     "metadata": {},
     "output_type": "execute_result"
    },
    {
     "data": {
      "image/png": "[encoded data removed]",
      "text/plain": [
       "<Figure size 864x648 with 2 Axes>"
      ]
     },
     "metadata": {
      "needs_background": "light"
     },
     "output_type": "display_data"
    }
   ],
   "source": [
    "# Correlation matrix\n",
    "corrmat = X.corr()\n",
    "f, ax = plt.subplots(figsize=(12, 9))\n",
    "sns.heatmap(corrmat, vmax=.8, square=True)\n"
   ]
  },
  {
   "cell_type": "markdown",
   "id": "ed4dca62",
   "metadata": {
    "papermill": {
     "duration": 0.03329,
     "end_time": "2022-03-30T12:23:02.021942",
     "exception": false,
     "start_time": "2022-03-30T12:23:01.988652",
     "status": "completed"
    },
    "tags": []
   },
   "source": [
    "# 4. Scaling, Encoding, Transforming:"
   ]
  },
  {
   "cell_type": "code",
   "execution_count": 19,
   "id": "180c54f9",
   "metadata": {
    "execution": {
     "iopub.execute_input": "2022-03-30T12:23:02.093270Z",
     "iopub.status.busy": "2022-03-30T12:23:02.092479Z",
     "iopub.status.idle": "2022-03-30T12:23:02.115783Z",
     "shell.execute_reply": "2022-03-30T12:23:02.116391Z",
     "shell.execute_reply.started": "2022-03-30T12:06:01.455724Z"
    },
    "papermill": {
     "duration": 0.061019,
     "end_time": "2022-03-30T12:23:02.116621",
     "exception": false,
     "start_time": "2022-03-30T12:23:02.055602",
     "status": "completed"
    },
    "tags": []
   },
   "outputs": [],
   "source": [
    "scale = ['MedNhbdArea', 'BackyardSF', 'PorchSF', 'WoodDeckSF', 'OpenPorchSF','AllSF', '1stFlrSF','2ndFlrSF', 'BsmtFinSF1', 'BsmtFinSF2','BsmtUnfSF','GarageArea','GrLivArea','LotArea','LotFrontage','LowQualFinSF','MasVnrArea','TotalBsmtSF','PoolArea']\n",
    "\n",
    "encode = list(set(X.columns) - set(scale) - set(['Id']))\n",
    "\n",
    "# Working with the skew\n",
    "skew_feats = X[scale].skew().sort_values(ascending=False)\n",
    "skewness = pd.DataFrame({'Skew': skew_feats.astype('float')})\n",
    "skewness = skewness[(skewness.Skew > .75)]\n",
    "indeces = list(skewness.index)\n",
    "\n",
    "# Why an I using log: It helps improve the skew of the data.\n",
    "for x in indeces:\n",
    "  X[x] = np.log1p(X[x])\n"
   ]
  },
  {
   "cell_type": "code",
   "execution_count": 20,
   "id": "ed532abf",
   "metadata": {
    "execution": {
     "iopub.execute_input": "2022-03-30T12:23:02.188717Z",
     "iopub.status.busy": "2022-03-30T12:23:02.187898Z",
     "iopub.status.idle": "2022-03-30T12:23:02.494838Z",
     "shell.execute_reply": "2022-03-30T12:23:02.494284Z",
     "shell.execute_reply.started": "2022-03-30T12:06:01.482696Z"
    },
    "papermill": {
     "duration": 0.344032,
     "end_time": "2022-03-30T12:23:02.495004",
     "exception": false,
     "start_time": "2022-03-30T12:23:02.150972",
     "status": "completed"
    },
    "tags": []
   },
   "outputs": [
    {
     "data": {
      "text/html": [
       "<div>\n",
       "<style scoped>\n",
       "    .dataframe tbody tr th:only-of-type {\n",
       "        vertical-align: middle;\n",
       "    }\n",
       "\n",
       "    .dataframe tbody tr th {\n",
       "        vertical-align: top;\n",
       "    }\n",
       "\n",
       "    .dataframe thead th {\n",
       "        text-align: right;\n",
       "    }\n",
       "</style>\n",
       "<table border=\"1\" class=\"dataframe\">\n",
       "  <thead>\n",
       "    <tr style=\"text-align: right;\">\n",
       "      <th></th>\n",
       "      <th>MedNhbdArea</th>\n",
       "      <th>BackyardSF</th>\n",
       "      <th>PorchSF</th>\n",
       "      <th>WoodDeckSF</th>\n",
       "      <th>OpenPorchSF</th>\n",
       "      <th>AllSF</th>\n",
       "      <th>1stFlrSF</th>\n",
       "      <th>2ndFlrSF</th>\n",
       "      <th>BsmtFinSF1</th>\n",
       "      <th>BsmtFinSF2</th>\n",
       "      <th>...</th>\n",
       "      <th>BsmtFinType1_No</th>\n",
       "      <th>BsmtFinType1_Rec</th>\n",
       "      <th>BsmtFinType1_Unf</th>\n",
       "      <th>CentralAir_N</th>\n",
       "      <th>CentralAir_Y</th>\n",
       "      <th>HeatingQC_Ex</th>\n",
       "      <th>HeatingQC_Fa</th>\n",
       "      <th>HeatingQC_Gd</th>\n",
       "      <th>HeatingQC_Po</th>\n",
       "      <th>HeatingQC_TA</th>\n",
       "    </tr>\n",
       "  </thead>\n",
       "  <tbody>\n",
       "    <tr>\n",
       "      <th>0</th>\n",
       "      <td>0.429416</td>\n",
       "      <td>0.411730</td>\n",
       "      <td>0.568325</td>\n",
       "      <td>0.000000</td>\n",
       "      <td>0.624312</td>\n",
       "      <td>0.572376</td>\n",
       "      <td>0.345070</td>\n",
       "      <td>0.884420</td>\n",
       "      <td>0.759508</td>\n",
       "      <td>0.0</td>\n",
       "      <td>...</td>\n",
       "      <td>0</td>\n",
       "      <td>0</td>\n",
       "      <td>0</td>\n",
       "      <td>0</td>\n",
       "      <td>1</td>\n",
       "      <td>1</td>\n",
       "      <td>0</td>\n",
       "      <td>0</td>\n",
       "      <td>0</td>\n",
       "      <td>0</td>\n",
       "    </tr>\n",
       "    <tr>\n",
       "      <th>1</th>\n",
       "      <td>0.581196</td>\n",
       "      <td>0.428215</td>\n",
       "      <td>0.784977</td>\n",
       "      <td>0.784977</td>\n",
       "      <td>0.000000</td>\n",
       "      <td>0.567740</td>\n",
       "      <td>0.487537</td>\n",
       "      <td>0.000000</td>\n",
       "      <td>0.797188</td>\n",
       "      <td>0.0</td>\n",
       "      <td>...</td>\n",
       "      <td>0</td>\n",
       "      <td>0</td>\n",
       "      <td>0</td>\n",
       "      <td>0</td>\n",
       "      <td>1</td>\n",
       "      <td>1</td>\n",
       "      <td>0</td>\n",
       "      <td>0</td>\n",
       "      <td>0</td>\n",
       "      <td>0</td>\n",
       "    </tr>\n",
       "    <tr>\n",
       "      <th>2</th>\n",
       "      <td>0.429416</td>\n",
       "      <td>0.466002</td>\n",
       "      <td>0.517934</td>\n",
       "      <td>0.000000</td>\n",
       "      <td>0.568957</td>\n",
       "      <td>0.587303</td>\n",
       "      <td>0.371528</td>\n",
       "      <td>0.886245</td>\n",
       "      <td>0.716357</td>\n",
       "      <td>0.0</td>\n",
       "      <td>...</td>\n",
       "      <td>0</td>\n",
       "      <td>0</td>\n",
       "      <td>0</td>\n",
       "      <td>0</td>\n",
       "      <td>1</td>\n",
       "      <td>1</td>\n",
       "      <td>0</td>\n",
       "      <td>0</td>\n",
       "      <td>0</td>\n",
       "      <td>0</td>\n",
       "    </tr>\n",
       "    <tr>\n",
       "      <th>3</th>\n",
       "      <td>0.539281</td>\n",
       "      <td>0.433447</td>\n",
       "      <td>0.789060</td>\n",
       "      <td>0.000000</td>\n",
       "      <td>0.542079</td>\n",
       "      <td>0.562004</td>\n",
       "      <td>0.387529</td>\n",
       "      <td>0.868471</td>\n",
       "      <td>0.622780</td>\n",
       "      <td>0.0</td>\n",
       "      <td>...</td>\n",
       "      <td>0</td>\n",
       "      <td>0</td>\n",
       "      <td>0</td>\n",
       "      <td>0</td>\n",
       "      <td>1</td>\n",
       "      <td>0</td>\n",
       "      <td>0</td>\n",
       "      <td>1</td>\n",
       "      <td>0</td>\n",
       "      <td>0</td>\n",
       "    </tr>\n",
       "    <tr>\n",
       "      <th>4</th>\n",
       "      <td>1.000000</td>\n",
       "      <td>0.508107</td>\n",
       "      <td>0.774452</td>\n",
       "      <td>0.724696</td>\n",
       "      <td>0.672040</td>\n",
       "      <td>0.646702</td>\n",
       "      <td>0.451824</td>\n",
       "      <td>0.911832</td>\n",
       "      <td>0.750841</td>\n",
       "      <td>0.0</td>\n",
       "      <td>...</td>\n",
       "      <td>0</td>\n",
       "      <td>0</td>\n",
       "      <td>0</td>\n",
       "      <td>0</td>\n",
       "      <td>1</td>\n",
       "      <td>1</td>\n",
       "      <td>0</td>\n",
       "      <td>0</td>\n",
       "      <td>0</td>\n",
       "      <td>0</td>\n",
       "    </tr>\n",
       "  </tbody>\n",
       "</table>\n",
       "<p>5 rows × 309 columns</p>\n",
       "</div>"
      ],
      "text/plain": [
       "   MedNhbdArea  BackyardSF   PorchSF  WoodDeckSF  OpenPorchSF     AllSF  \\\n",
       "0     0.429416    0.411730  0.568325    0.000000     0.624312  0.572376   \n",
       "1     0.581196    0.428215  0.784977    0.784977     0.000000  0.567740   \n",
       "2     0.429416    0.466002  0.517934    0.000000     0.568957  0.587303   \n",
       "3     0.539281    0.433447  0.789060    0.000000     0.542079  0.562004   \n",
       "4     1.000000    0.508107  0.774452    0.724696     0.672040  0.646702   \n",
       "\n",
       "   1stFlrSF  2ndFlrSF  BsmtFinSF1  BsmtFinSF2  ...  BsmtFinType1_No  \\\n",
       "0  0.345070  0.884420    0.759508         0.0  ...                0   \n",
       "1  0.487537  0.000000    0.797188         0.0  ...                0   \n",
       "2  0.371528  0.886245    0.716357         0.0  ...                0   \n",
       "3  0.387529  0.868471    0.622780         0.0  ...                0   \n",
       "4  0.451824  0.911832    0.750841         0.0  ...                0   \n",
       "\n",
       "   BsmtFinType1_Rec  BsmtFinType1_Unf  CentralAir_N  CentralAir_Y  \\\n",
       "0                 0                 0             0             1   \n",
       "1                 0                 0             0             1   \n",
       "2                 0                 0             0             1   \n",
       "3                 0                 0             0             1   \n",
       "4                 0                 0             0             1   \n",
       "\n",
       "   HeatingQC_Ex  HeatingQC_Fa  HeatingQC_Gd  HeatingQC_Po  HeatingQC_TA  \n",
       "0             1             0             0             0             0  \n",
       "1             1             0             0             0             0  \n",
       "2             1             0             0             0             0  \n",
       "3             0             0             1             0             0  \n",
       "4             1             0             0             0             0  \n",
       "\n",
       "[5 rows x 309 columns]"
      ]
     },
     "execution_count": 20,
     "metadata": {},
     "output_type": "execute_result"
    }
   ],
   "source": [
    "# Starting to scale: Transforming by calculating the distances between the data.\n",
    "Xscale = X[scale]\n",
    "scaler = MinMaxScaler().fit(Xscale)\n",
    "Xscale = pd.DataFrame(scaler.transform(Xscale), columns=Xscale.columns)\n",
    "\n",
    "# Encoding the data\n",
    "Xencode = X[encode]\n",
    "\n",
    "# Merge the encoding with the scale data and reset the index.\n",
    "X = Xscale.merge(Xencode.reset_index(), left_index=True, right_index=True)\n",
    "# Turning the data into dummies.\n",
    "X = pd.DataFrame(pd.get_dummies(data=X))\n",
    "\n",
    "# Working with OrdinalEncoder and then reshaping\n",
    "oc = OrdinalEncoder()\n",
    "for x in X:\n",
    "  if X[x].dtype == 'object':\n",
    "    X[x] = oc.fit_transform(X[x].values.reshape(-1, 1))\n",
    "X.head(5)"
   ]
  },
  {
   "cell_type": "markdown",
   "id": "52a8c841",
   "metadata": {
    "papermill": {
     "duration": 0.034424,
     "end_time": "2022-03-30T12:23:02.564100",
     "exception": false,
     "start_time": "2022-03-30T12:23:02.529676",
     "status": "completed"
    },
    "tags": []
   },
   "source": [
    "# 5. Train Test split: "
   ]
  },
  {
   "cell_type": "code",
   "execution_count": 21,
   "id": "560b16b4",
   "metadata": {
    "execution": {
     "iopub.execute_input": "2022-03-30T12:23:02.639751Z",
     "iopub.status.busy": "2022-03-30T12:23:02.638821Z",
     "iopub.status.idle": "2022-03-30T12:23:02.658928Z",
     "shell.execute_reply": "2022-03-30T12:23:02.659543Z",
     "shell.execute_reply.started": "2022-03-30T12:06:01.604835Z"
    },
    "papermill": {
     "duration": 0.059516,
     "end_time": "2022-03-30T12:23:02.659773",
     "exception": false,
     "start_time": "2022-03-30T12:23:02.600257",
     "status": "completed"
    },
    "tags": []
   },
   "outputs": [],
   "source": [
    "# Preparing the data for train test split\n",
    "j = X\n",
    "length = test.shape[0]\n",
    "X = j[:train.shape[0]]\n",
    "test = j[train.shape[0]:test.shape[0]+(length+1)]\n",
    "\n",
    "# Split\n",
    "xtrain, xtest, ytrain, ytest = train_test_split(X, y, test_size=.3, random_state=0)\n",
    "\n",
    "# Working with ytrain\n",
    "ytrain = pd.DataFrame(np.log1p(ytrain.SalePrice))\n",
    "ytrain.reset_index(inplace=True)\n",
    "ytrain.drop(columns='index', inplace=True)\n",
    "ytest = pd.DataFrame(np.log1p(ytest.SalePrice))\n",
    "# Working with ytest\n",
    "ytest.reset_index(inplace=True)\n",
    "ytest.drop(columns='index', inplace=True)"
   ]
  },
  {
   "cell_type": "markdown",
   "id": "a43dd5c7",
   "metadata": {
    "papermill": {
     "duration": 0.034887,
     "end_time": "2022-03-30T12:23:02.729370",
     "exception": false,
     "start_time": "2022-03-30T12:23:02.694483",
     "status": "completed"
    },
    "tags": []
   },
   "source": [
    "# 6. XGBoost:\n",
    "A few of the more important parameters that are worth nothing:\n",
    "1. learning_rate: To prevent any over fitting of the data.\n",
    "2. n_estimators: Value from the parameter tuning.\n",
    "3. gamma: To not have any regularization. The higher the number the higher the regularization.\n",
    "4. objective: Using Linear Regression with this XGBoost\n",
    "5. nthread: The default is -1.\n",
    "6. reg_alpha: Reduces overfitting and test error."
   ]
  },
  {
   "cell_type": "code",
   "execution_count": 22,
   "id": "fb8f7063",
   "metadata": {
    "execution": {
     "iopub.execute_input": "2022-03-30T12:23:02.804699Z",
     "iopub.status.busy": "2022-03-30T12:23:02.803870Z",
     "iopub.status.idle": "2022-03-30T12:23:02.808168Z",
     "shell.execute_reply": "2022-03-30T12:23:02.808764Z",
     "shell.execute_reply.started": "2022-03-30T12:06:01.628584Z"
    },
    "papermill": {
     "duration": 0.044852,
     "end_time": "2022-03-30T12:23:02.808972",
     "exception": false,
     "start_time": "2022-03-30T12:23:02.764120",
     "status": "completed"
    },
    "tags": []
   },
   "outputs": [],
   "source": [
    "model = XGBRegressor(learning_rate=0.01, n_estimators=3460, gamma=0, objective='reg:linear', nthread=-1, reg_alpha=0.00006)\n"
   ]
  },
  {
   "cell_type": "code",
   "execution_count": 23,
   "id": "150fb3f8",
   "metadata": {
    "execution": {
     "iopub.execute_input": "2022-03-30T12:23:02.885579Z",
     "iopub.status.busy": "2022-03-30T12:23:02.884758Z",
     "iopub.status.idle": "2022-03-30T12:23:28.406073Z",
     "shell.execute_reply": "2022-03-30T12:23:28.406991Z",
     "shell.execute_reply.started": "2022-03-30T12:06:01.641192Z"
    },
    "papermill": {
     "duration": 25.56339,
     "end_time": "2022-03-30T12:23:28.407244",
     "exception": false,
     "start_time": "2022-03-30T12:23:02.843854",
     "status": "completed"
    },
    "tags": []
   },
   "outputs": [
    {
     "name": "stdout",
     "output_type": "stream",
     "text": [
      "[03:04:49] WARNING: C:/Users/Administrator/workspace/xgboost-win64_release_1.5.1/src/objective/regression_obj.cu:188: reg:linear is now deprecated in favor of reg:squarederror.\n"
     ]
    },
    {
     "data": {
      "text/plain": [
       "199500.53986382837"
      ]
     },
     "execution_count": 23,
     "metadata": {},
     "output_type": "execute_result"
    }
   ],
   "source": [
    "#Fitting thr model\n",
    "preds = model.fit(xtrain, ytrain)\n",
    "# Predicting the model\n",
    "preds = model.predict(xtest)\n",
    "# Finding the mean squared error and removing the log so we can see the number without the log.\n",
    "np.sqrt(mean_squared_error(np.expm1(ytest), preds))\n"
   ]
  },
  {
   "cell_type": "code",
   "execution_count": 24,
   "id": "783547f8",
   "metadata": {
    "execution": {
     "iopub.execute_input": "2022-03-30T12:23:28.483791Z",
     "iopub.status.busy": "2022-03-30T12:23:28.482630Z",
     "iopub.status.idle": "2022-03-30T12:23:28.490787Z",
     "shell.execute_reply": "2022-03-30T12:23:28.491400Z",
     "shell.execute_reply.started": "2022-03-30T12:06:27.017657Z"
    },
    "papermill": {
     "duration": 0.048527,
     "end_time": "2022-03-30T12:23:28.491610",
     "exception": false,
     "start_time": "2022-03-30T12:23:28.443083",
     "status": "completed"
    },
    "tags": []
   },
   "outputs": [],
   "source": [
    "# Adding log to y\n",
    "y = pd.DataFrame(np.log1p(y.SalePrice))\n",
    "# Resetting the index\n",
    "y.reset_index(inplace=True)\n",
    "# Dropping the index column\n",
    "y.drop(columns='index', inplace=True)"
   ]
  },
  {
   "cell_type": "code",
   "execution_count": 25,
   "id": "bd015376",
   "metadata": {
    "execution": {
     "iopub.execute_input": "2022-03-30T12:23:28.567351Z",
     "iopub.status.busy": "2022-03-30T12:23:28.566264Z",
     "iopub.status.idle": "2022-03-30T12:23:28.645091Z",
     "shell.execute_reply": "2022-03-30T12:23:28.645787Z",
     "shell.execute_reply.started": "2022-03-30T12:06:27.027637Z"
    },
    "papermill": {
     "duration": 0.119103,
     "end_time": "2022-03-30T12:23:28.646003",
     "exception": false,
     "start_time": "2022-03-30T12:23:28.526900",
     "status": "completed"
    },
    "tags": []
   },
   "outputs": [],
   "source": [
    "# Predicting the final model with test data\n",
    "final_preds = model.predict(test)\n",
    "# Removing the log\n",
    "final_preds = np.expm1(final_preds)\n",
    "# Adding in the test data from beginning\n",
    "new_test = test = pd.read_csv('testhouse.csv')\n"
   ]
  },
  {
   "cell_type": "markdown",
   "id": "dc55796c",
   "metadata": {},
   "source": [
    "# 7. Submission:\n"
   ]
  },
  {
   "cell_type": "code",
   "execution_count": 26,
   "id": "15658421",
   "metadata": {
    "execution": {
     "iopub.execute_input": "2022-03-30T12:23:28.728645Z",
     "iopub.status.busy": "2022-03-30T12:23:28.727451Z",
     "iopub.status.idle": "2022-03-30T12:23:28.737798Z",
     "shell.execute_reply": "2022-03-30T12:23:28.738444Z",
     "shell.execute_reply.started": "2022-03-30T12:06:27.122664Z"
    },
    "papermill": {
     "duration": 0.056978,
     "end_time": "2022-03-30T12:23:28.738647",
     "exception": false,
     "start_time": "2022-03-30T12:23:28.681669",
     "status": "completed"
    },
    "tags": []
   },
   "outputs": [
    {
     "data": {
      "text/html": [
       "<div>\n",
       "<style scoped>\n",
       "    .dataframe tbody tr th:only-of-type {\n",
       "        vertical-align: middle;\n",
       "    }\n",
       "\n",
       "    .dataframe tbody tr th {\n",
       "        vertical-align: top;\n",
       "    }\n",
       "\n",
       "    .dataframe thead th {\n",
       "        text-align: right;\n",
       "    }\n",
       "</style>\n",
       "<table border=\"1\" class=\"dataframe\">\n",
       "  <thead>\n",
       "    <tr style=\"text-align: right;\">\n",
       "      <th></th>\n",
       "      <th>Id</th>\n",
       "      <th>SalePrice</th>\n",
       "    </tr>\n",
       "  </thead>\n",
       "  <tbody>\n",
       "    <tr>\n",
       "      <th>0</th>\n",
       "      <td>1461</td>\n",
       "      <td>124183.742188</td>\n",
       "    </tr>\n",
       "    <tr>\n",
       "      <th>1</th>\n",
       "      <td>1462</td>\n",
       "      <td>177520.718750</td>\n",
       "    </tr>\n",
       "    <tr>\n",
       "      <th>2</th>\n",
       "      <td>1463</td>\n",
       "      <td>193762.875000</td>\n",
       "    </tr>\n",
       "    <tr>\n",
       "      <th>3</th>\n",
       "      <td>1464</td>\n",
       "      <td>186515.562500</td>\n",
       "    </tr>\n",
       "    <tr>\n",
       "      <th>4</th>\n",
       "      <td>1465</td>\n",
       "      <td>171234.750000</td>\n",
       "    </tr>\n",
       "    <tr>\n",
       "      <th>...</th>\n",
       "      <td>...</td>\n",
       "      <td>...</td>\n",
       "    </tr>\n",
       "    <tr>\n",
       "      <th>1454</th>\n",
       "      <td>2915</td>\n",
       "      <td>77441.929688</td>\n",
       "    </tr>\n",
       "    <tr>\n",
       "      <th>1455</th>\n",
       "      <td>2916</td>\n",
       "      <td>79847.062500</td>\n",
       "    </tr>\n",
       "    <tr>\n",
       "      <th>1456</th>\n",
       "      <td>2917</td>\n",
       "      <td>152042.937500</td>\n",
       "    </tr>\n",
       "    <tr>\n",
       "      <th>1457</th>\n",
       "      <td>2918</td>\n",
       "      <td>98199.187500</td>\n",
       "    </tr>\n",
       "    <tr>\n",
       "      <th>1458</th>\n",
       "      <td>2919</td>\n",
       "      <td>210342.546875</td>\n",
       "    </tr>\n",
       "  </tbody>\n",
       "</table>\n",
       "<p>1459 rows × 2 columns</p>\n",
       "</div>"
      ],
      "text/plain": [
       "        Id      SalePrice\n",
       "0     1461  124183.742188\n",
       "1     1462  177520.718750\n",
       "2     1463  193762.875000\n",
       "3     1464  186515.562500\n",
       "4     1465  171234.750000\n",
       "...    ...            ...\n",
       "1454  2915   77441.929688\n",
       "1455  2916   79847.062500\n",
       "1456  2917  152042.937500\n",
       "1457  2918   98199.187500\n",
       "1458  2919  210342.546875\n",
       "\n",
       "[1459 rows x 2 columns]"
      ]
     },
     "execution_count": 26,
     "metadata": {},
     "output_type": "execute_result"
    }
   ],
   "source": [
    "# Working on the final submission.\n",
    "submission = pd.DataFrame(new_test['Id'], columns=['Id'])\n",
    "# Adding column for SalePrice\n",
    "submission['SalePrice'] = final_preds\n",
    "# Final view of the finished submission data\n",
    "submission"
   ]
  },
  {
   "cell_type": "code",
   "execution_count": 27,
   "id": "9755e55b",
   "metadata": {
    "execution": {
     "iopub.execute_input": "2022-03-30T12:23:28.816952Z",
     "iopub.status.busy": "2022-03-30T12:23:28.815761Z",
     "iopub.status.idle": "2022-03-30T12:23:28.829439Z",
     "shell.execute_reply": "2022-03-30T12:23:28.829995Z",
     "shell.execute_reply.started": "2022-03-30T12:06:27.141265Z"
    },
    "papermill": {
     "duration": 0.054307,
     "end_time": "2022-03-30T12:23:28.830256",
     "exception": false,
     "start_time": "2022-03-30T12:23:28.775949",
     "status": "completed"
    },
    "tags": []
   },
   "outputs": [],
   "source": [
    "#Saving the submission in order to submit it to Kaggle.\n",
    "submission.to_csv('submission.csv', index=False, header=True)"
   ]
  }
 ],
 "metadata": {
  "kernelspec": {
   "display_name": "Python 3",
   "language": "python",
   "name": "python3"
  },
  "language_info": {
   "codemirror_mode": {
    "name": "ipython",
    "version": 3
   },
   "file_extension": ".py",
   "mimetype": "text/x-python",
   "name": "python",
   "nbconvert_exporter": "python",
   "pygments_lexer": "ipython3",
   "version": "3.8.8"
  },
  "papermill": {
   "default_parameters": {},
   "duration": 44.659355,
   "end_time": "2022-03-30T12:23:29.981887",
   "environment_variables": {},
   "exception": null,
   "input_path": "__notebook__.ipynb",
   "output_path": "__notebook__.ipynb",
   "parameters": {},
   "start_time": "2022-03-30T12:22:45.322532",
   "version": "2.3.3"
  }
 },
 "nbformat": 4,
 "nbformat_minor": 5
}
